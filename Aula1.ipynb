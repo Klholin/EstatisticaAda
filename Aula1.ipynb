{
 "cells": [
  {
   "cell_type": "code",
   "execution_count": 7,
   "id": "b16e1f08-9bbb-4421-974a-366b49ba68c5",
   "metadata": {},
   "outputs": [
    {
     "data": {
      "text/plain": [
       "'\\nUruguay 1930 FIFA World Cup -- 4.375\\n\\nItaly 1934 FIFA World Cup -- 4.12\\n\\nFrance 1938 FIFA World Cup -- 4.67\\n\\nBrazil 1950 FIFA World Cup -- 4\\n\\nSwitzerland 1954 FIFA World Cup -- 5.38\\n\\nSweden 1958 FIFA World Cup -- 3.6\\n\\nChile 1962 FIFA World Cup -- 2.79\\n\\nEngland 1966 FIFA World Cup -- 2.79\\n\\nMexico 1970 FIFA World Cup -- 2.97\\n\\nWest Germany 1974 FIFA World Cup -- 2.55\\n\\nArgentina 1978 FIFA World Cup -- 2.68\\n\\nSpain 1982 FIFA World Cup -- 2.81\\n\\nMexico 1986 FIFA World Cup -- 2.54\\n\\nItaly 1990 FIFA World Cup -- 2.21\\n\\nUnited States 1994 FIFA World Cup -- 2.71\\n\\nFrance 1998 FIFA World Cup -- 2.67\\n\\nSouth Korea and Japan 2002 FIFA World Cup -- 2.52\\n\\nGermany 2006 FIFA World Cup -- 2.30\\n\\nSouth Africa 2010 FIFA World Cup -- 2.27\\n\\nBrazil 2014 FIFA World Cup -- 2.67\\n\\nRussia 2018 FIFA World Cup -- 2.64\\n\\nQatar 2022 FIFA World Cup --  2.69'"
      ]
     },
     "execution_count": 7,
     "metadata": {},
     "output_type": "execute_result"
    }
   ],
   "source": [
    "dados = '''\n",
    "Uruguay 1930 FIFA World Cup -- 4.375\n",
    "\n",
    "Italy 1934 FIFA World Cup -- 4.12\n",
    "\n",
    "France 1938 FIFA World Cup -- 4.67\n",
    "\n",
    "Brazil 1950 FIFA World Cup -- 4\n",
    "\n",
    "Switzerland 1954 FIFA World Cup -- 5.38\n",
    "\n",
    "Sweden 1958 FIFA World Cup -- 3.6\n",
    "\n",
    "Chile 1962 FIFA World Cup -- 2.79\n",
    "\n",
    "England 1966 FIFA World Cup -- 2.79\n",
    "\n",
    "Mexico 1970 FIFA World Cup -- 2.97\n",
    "\n",
    "West Germany 1974 FIFA World Cup -- 2.55\n",
    "\n",
    "Argentina 1978 FIFA World Cup -- 2.68\n",
    "\n",
    "Spain 1982 FIFA World Cup -- 2.81\n",
    "\n",
    "Mexico 1986 FIFA World Cup -- 2.54\n",
    "\n",
    "Italy 1990 FIFA World Cup -- 2.21\n",
    "\n",
    "United States 1994 FIFA World Cup -- 2.71\n",
    "\n",
    "France 1998 FIFA World Cup -- 2.67\n",
    "\n",
    "South Korea and Japan 2002 FIFA World Cup -- 2.52\n",
    "\n",
    "Germany 2006 FIFA World Cup -- 2.30\n",
    "\n",
    "South Africa 2010 FIFA World Cup -- 2.27\n",
    "\n",
    "Brazil 2014 FIFA World Cup -- 2.67\n",
    "\n",
    "Russia 2018 FIFA World Cup -- 2.64\n",
    "\n",
    "Qatar 2022 FIFA World Cup --  2.69'''\n",
    "\n",
    "dados"
   ]
  },
  {
   "cell_type": "code",
   "execution_count": 9,
   "id": "65cc554c-7ad7-4eb0-9b08-8058438b5b13",
   "metadata": {},
   "outputs": [
    {
     "data": {
      "text/plain": [
       "[4.375,\n",
       " 4.12,\n",
       " 4.67,\n",
       " 4.0,\n",
       " 5.38,\n",
       " 3.6,\n",
       " 2.79,\n",
       " 2.79,\n",
       " 2.97,\n",
       " 2.55,\n",
       " 2.68,\n",
       " 2.81,\n",
       " 2.54,\n",
       " 2.21,\n",
       " 2.71,\n",
       " 2.67,\n",
       " 2.52,\n",
       " 2.3,\n",
       " 2.27,\n",
       " 2.67,\n",
       " 2.64,\n",
       " 2.69]"
      ]
     },
     "execution_count": 9,
     "metadata": {},
     "output_type": "execute_result"
    }
   ],
   "source": [
    "\n",
    "formatado = [float(elemento.split(' -- ')[1]) for elemento in dados.split('\\n\\n')]\n",
    "#formatado2[0].split(' -- ')[1]\n",
    "formatado\n"
   ]
  },
  {
   "cell_type": "code",
   "execution_count": 10,
   "id": "1e6eb2fe-8e19-4453-af24-c0bd454ad4cb",
   "metadata": {},
   "outputs": [],
   "source": [
    "import numpy as np\n",
    "gols = np.array(formatado)"
   ]
  },
  {
   "cell_type": "code",
   "execution_count": 11,
   "id": "89ea7ec6-c0fa-4f30-89fa-c7b2b8896f29",
   "metadata": {},
   "outputs": [
    {
     "name": "stdout",
     "output_type": "stream",
     "text": [
      "Média de gols: 3.0888636363636364\n"
     ]
    }
   ],
   "source": [
    "print('Média de gols:',gols.mean())"
   ]
  },
  {
   "cell_type": "markdown",
   "id": "3c215a7c-ea60-4b5a-8732-81ada61b5bb8",
   "metadata": {},
   "source": [
    "# Estatística\n",
    ".Descritiva \\n\n",
    ".Inferencial\n",
    "\n",
    ".Qualitativa nominal e ordinal\n",
    ".Sem ordem, com ordem\n",
    ".Quantitativa discreta e contínua\n",
    ".int, float"
   ]
  },
  {
   "cell_type": "code",
   "execution_count": 12,
   "id": "cdb296e6-6104-48c7-87a6-64735f09327e",
   "metadata": {},
   "outputs": [],
   "source": [
    "import pandas as pd"
   ]
  },
  {
   "cell_type": "code",
   "execution_count": 13,
   "id": "b2501921-b986-4096-9b88-b6f6b022c2e2",
   "metadata": {},
   "outputs": [],
   "source": [
    "import matplotlib.pyplot as plt\n",
    "import seaborn as sns"
   ]
  },
  {
   "cell_type": "code",
   "execution_count": 33,
   "id": "ff9eef00-7042-463c-8e95-c0b0cadf6fe3",
   "metadata": {},
   "outputs": [
    {
     "data": {
      "text/plain": [
       "1    0.6\n",
       "0    0.4\n",
       "Name: proportion, dtype: float64"
      ]
     },
     "execution_count": 33,
     "metadata": {},
     "output_type": "execute_result"
    }
   ],
   "source": [
    "pd.Series(np.random.randint(0,2,10)).value_counts(normalize=True)"
   ]
  },
  {
   "cell_type": "code",
   "execution_count": null,
   "id": "2ab19be1-0d62-4cab-ae6a-5482def6a432",
   "metadata": {},
   "outputs": [],
   "source": []
  }
 ],
 "metadata": {
  "kernelspec": {
   "display_name": "Python (CMD Version)",
   "language": "python",
   "name": "pythoncmd"
  },
  "language_info": {
   "codemirror_mode": {
    "name": "ipython",
    "version": 3
   },
   "file_extension": ".py",
   "mimetype": "text/x-python",
   "name": "python",
   "nbconvert_exporter": "python",
   "pygments_lexer": "ipython3",
   "version": "3.9.13"
  }
 },
 "nbformat": 4,
 "nbformat_minor": 5
}
