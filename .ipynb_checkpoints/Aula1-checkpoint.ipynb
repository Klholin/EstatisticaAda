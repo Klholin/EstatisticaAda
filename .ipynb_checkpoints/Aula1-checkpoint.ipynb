{
 "cells": [
  {
   "cell_type": "code",
   "execution_count": 6,
   "id": "b16e1f08-9bbb-4421-974a-366b49ba68c5",
   "metadata": {},
   "outputs": [
    {
     "data": {
      "text/plain": [
       "'\\nUruguay 1930 FIFA World Cup -- 4.375\\n\\nItaly 1934 FIFA World Cup -- 4.12\\n\\nFrance 1938 FIFA World Cup -- 4.67\\n\\nBrazil 1950 FIFA World Cup -- 4\\n\\nSwitzerland 1954 FIFA World Cup -- 5.38\\n\\nSweden 1958 FIFA World Cup -- 3.6\\n\\nChile 1962 FIFA World Cup -- 2.79\\n\\nEngland 1966 FIFA World Cup -- 2.79\\n\\nMexico 1970 FIFA World Cup -- 2.97\\n\\nWest Germany 1974 FIFA World Cup -- 2.55\\n\\nArgentina 1978 FIFA World Cup -- 2.68\\n\\nSpain 1982 FIFA World Cup -- 2.81\\n\\nMexico 1986 FIFA World Cup -- 2.54\\n\\nItaly 1990 FIFA World Cup -- 2.21\\n\\nUnited States 1994 FIFA World Cup -- 2.71\\n\\nFrance 1998 FIFA World Cup -- 2.67\\n\\nSouth Korea and Japan 2002 FIFA World Cup -- 2.52\\n\\nGermany 2006 FIFA World Cup -- 2.30\\n\\nSouth Africa 2010 FIFA World Cup -- 2.27\\n\\nBrazil 2014 FIFA World Cup -- 2.67\\n\\nRussia 2018 FIFA World Cup -- 2.64\\n\\nQatar 2022 FIFA World Cup --  2.69\\n'"
      ]
     },
     "execution_count": 6,
     "metadata": {},
     "output_type": "execute_result"
    }
   ],
   "source": [
    "dados = '''\n",
    "Uruguay 1930 FIFA World Cup -- 4.375\n",
    "\n",
    "Italy 1934 FIFA World Cup -- 4.12\n",
    "\n",
    "France 1938 FIFA World Cup -- 4.67\n",
    "\n",
    "Brazil 1950 FIFA World Cup -- 4\n",
    "\n",
    "Switzerland 1954 FIFA World Cup -- 5.38\n",
    "\n",
    "Sweden 1958 FIFA World Cup -- 3.6\n",
    "\n",
    "Chile 1962 FIFA World Cup -- 2.79\n",
    "\n",
    "England 1966 FIFA World Cup -- 2.79\n",
    "\n",
    "Mexico 1970 FIFA World Cup -- 2.97\n",
    "\n",
    "West Germany 1974 FIFA World Cup -- 2.55\n",
    "\n",
    "Argentina 1978 FIFA World Cup -- 2.68\n",
    "\n",
    "Spain 1982 FIFA World Cup -- 2.81\n",
    "\n",
    "Mexico 1986 FIFA World Cup -- 2.54\n",
    "\n",
    "Italy 1990 FIFA World Cup -- 2.21\n",
    "\n",
    "United States 1994 FIFA World Cup -- 2.71\n",
    "\n",
    "France 1998 FIFA World Cup -- 2.67\n",
    "\n",
    "South Korea and Japan 2002 FIFA World Cup -- 2.52\n",
    "\n",
    "Germany 2006 FIFA World Cup -- 2.30\n",
    "\n",
    "South Africa 2010 FIFA World Cup -- 2.27\n",
    "\n",
    "Brazil 2014 FIFA World Cup -- 2.67\n",
    "\n",
    "Russia 2018 FIFA World Cup -- 2.64\n",
    "\n",
    "Qatar 2022 FIFA World Cup --  2.69\n",
    "'''\n",
    "\n",
    "dados"
   ]
  },
  {
   "cell_type": "code",
   "execution_count": 31,
   "id": "65cc554c-7ad7-4eb0-9b08-8058438b5b13",
   "metadata": {},
   "outputs": [
    {
     "data": {
      "text/plain": [
       "'\\nUruguay 1930 FIFA World Cup -- 4.375\\nItaly 1934 FIFA World Cup -- 4.12\\nFrance 1938 FIFA World Cup -- 4.67\\nBrazil 1950 FIFA World Cup -- 4\\nSwitzerland 1954 FIFA World Cup -- 5.38\\nSweden 1958 FIFA World Cup -- 3.6\\nChile 1962 FIFA World Cup -- 2.79\\nEngland 1966 FIFA World Cup -- 2.79\\nMexico 1970 FIFA World Cup -- 2.97\\nWest Germany 1974 FIFA World Cup -- 2.55\\nArgentina 1978 FIFA World Cup -- 2.68\\nSpain 1982 FIFA World Cup -- 2.81\\nMexico 1986 FIFA World Cup -- 2.54\\nItaly 1990 FIFA World Cup -- 2.21\\nUnited States 1994 FIFA World Cup -- 2.71\\nFrance 1998 FIFA World Cup -- 2.67\\nSouth Korea and Japan 2002 FIFA World Cup -- 2.52\\nGermany 2006 FIFA World Cup -- 2.30\\nSouth Africa 2010 FIFA World Cup -- 2.27\\nBrazil 2014 FIFA World Cup -- 2.67\\nRussia 2018 FIFA World Cup -- 2.64\\nQatar 2022 FIFA World Cup --  2.69\\n'"
      ]
     },
     "execution_count": 31,
     "metadata": {},
     "output_type": "execute_result"
    }
   ],
   "source": [
    "#formatado = (''.join(dados.split('\\n\\n'))).split('--')\n",
    "formatado = dados.split('\\n\\n')\n",
    "formatado\n"
   ]
  },
  {
   "cell_type": "code",
   "execution_count": null,
   "id": "1e6eb2fe-8e19-4453-af24-c0bd454ad4cb",
   "metadata": {},
   "outputs": [],
   "source": []
  }
 ],
 "metadata": {
  "kernelspec": {
   "display_name": "Python (CMD Version)",
   "language": "python",
   "name": "pythoncmd"
  },
  "language_info": {
   "codemirror_mode": {
    "name": "ipython",
    "version": 3
   },
   "file_extension": ".py",
   "mimetype": "text/x-python",
   "name": "python",
   "nbconvert_exporter": "python",
   "pygments_lexer": "ipython3",
   "version": "3.9.13"
  }
 },
 "nbformat": 4,
 "nbformat_minor": 5
}
