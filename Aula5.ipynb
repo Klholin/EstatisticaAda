{
 "cells": [
  {
   "cell_type": "code",
   "execution_count": 8,
   "id": "b6cd65e0-4667-4ac1-ada8-d365abcd0bc9",
   "metadata": {},
   "outputs": [],
   "source": [
    "import numpy as np\n",
    "import pandas as pd\n",
    "import matplotlib.pyplot as plt\n",
    "import seaborn as sns\n",
    "import scipy"
   ]
  },
  {
   "cell_type": "code",
   "execution_count": 24,
   "id": "749c7533-a6ce-4b3f-8e48-0c967750cc14",
   "metadata": {},
   "outputs": [
    {
     "data": {
      "text/html": [
       "<div>\n",
       "<style scoped>\n",
       "    .dataframe tbody tr th:only-of-type {\n",
       "        vertical-align: middle;\n",
       "    }\n",
       "\n",
       "    .dataframe tbody tr th {\n",
       "        vertical-align: top;\n",
       "    }\n",
       "\n",
       "    .dataframe thead th {\n",
       "        text-align: right;\n",
       "    }\n",
       "</style>\n",
       "<table border=\"1\" class=\"dataframe\">\n",
       "  <thead>\n",
       "    <tr style=\"text-align: right;\">\n",
       "      <th></th>\n",
       "      <th>sexo</th>\n",
       "      <th>altura</th>\n",
       "      <th>peso</th>\n",
       "    </tr>\n",
       "  </thead>\n",
       "  <tbody>\n",
       "    <tr>\n",
       "      <th>0</th>\n",
       "      <td>M</td>\n",
       "      <td>187.57</td>\n",
       "      <td>109.72</td>\n",
       "    </tr>\n",
       "    <tr>\n",
       "      <th>1</th>\n",
       "      <td>M</td>\n",
       "      <td>174.71</td>\n",
       "      <td>73.62</td>\n",
       "    </tr>\n",
       "    <tr>\n",
       "      <th>2</th>\n",
       "      <td>M</td>\n",
       "      <td>188.24</td>\n",
       "      <td>96.50</td>\n",
       "    </tr>\n",
       "    <tr>\n",
       "      <th>3</th>\n",
       "      <td>M</td>\n",
       "      <td>182.20</td>\n",
       "      <td>99.81</td>\n",
       "    </tr>\n",
       "    <tr>\n",
       "      <th>4</th>\n",
       "      <td>M</td>\n",
       "      <td>177.50</td>\n",
       "      <td>93.60</td>\n",
       "    </tr>\n",
       "    <tr>\n",
       "      <th>...</th>\n",
       "      <td>...</td>\n",
       "      <td>...</td>\n",
       "      <td>...</td>\n",
       "    </tr>\n",
       "    <tr>\n",
       "      <th>9995</th>\n",
       "      <td>F</td>\n",
       "      <td>168.08</td>\n",
       "      <td>62.04</td>\n",
       "    </tr>\n",
       "    <tr>\n",
       "      <th>9996</th>\n",
       "      <td>F</td>\n",
       "      <td>170.35</td>\n",
       "      <td>77.51</td>\n",
       "    </tr>\n",
       "    <tr>\n",
       "      <th>9997</th>\n",
       "      <td>F</td>\n",
       "      <td>162.22</td>\n",
       "      <td>58.28</td>\n",
       "    </tr>\n",
       "    <tr>\n",
       "      <th>9998</th>\n",
       "      <td>F</td>\n",
       "      <td>175.35</td>\n",
       "      <td>74.32</td>\n",
       "    </tr>\n",
       "    <tr>\n",
       "      <th>9999</th>\n",
       "      <td>F</td>\n",
       "      <td>157.34</td>\n",
       "      <td>51.55</td>\n",
       "    </tr>\n",
       "  </tbody>\n",
       "</table>\n",
       "<p>10000 rows × 3 columns</p>\n",
       "</div>"
      ],
      "text/plain": [
       "     sexo  altura    peso\n",
       "0       M  187.57  109.72\n",
       "1       M  174.71   73.62\n",
       "2       M  188.24   96.50\n",
       "3       M  182.20   99.81\n",
       "4       M  177.50   93.60\n",
       "...   ...     ...     ...\n",
       "9995    F  168.08   62.04\n",
       "9996    F  170.35   77.51\n",
       "9997    F  162.22   58.28\n",
       "9998    F  175.35   74.32\n",
       "9999    F  157.34   51.55\n",
       "\n",
       "[10000 rows x 3 columns]"
      ]
     },
     "execution_count": 24,
     "metadata": {},
     "output_type": "execute_result"
    }
   ],
   "source": [
    "df = pd.read_csv(\"alturas_pesos.csv\")\n",
    "df"
   ]
  },
  {
   "cell_type": "code",
   "execution_count": 4,
   "id": "654a9f1c-eb23-462e-852d-a41c9ce61aa4",
   "metadata": {},
   "outputs": [
    {
     "data": {
      "text/html": [
       "<div>\n",
       "<style scoped>\n",
       "    .dataframe tbody tr th:only-of-type {\n",
       "        vertical-align: middle;\n",
       "    }\n",
       "\n",
       "    .dataframe tbody tr th {\n",
       "        vertical-align: top;\n",
       "    }\n",
       "\n",
       "    .dataframe thead th {\n",
       "        text-align: right;\n",
       "    }\n",
       "</style>\n",
       "<table border=\"1\" class=\"dataframe\">\n",
       "  <thead>\n",
       "    <tr style=\"text-align: right;\">\n",
       "      <th></th>\n",
       "      <th>altura</th>\n",
       "      <th>peso</th>\n",
       "    </tr>\n",
       "    <tr>\n",
       "      <th>sexo</th>\n",
       "      <th></th>\n",
       "      <th></th>\n",
       "    </tr>\n",
       "  </thead>\n",
       "  <tbody>\n",
       "    <tr>\n",
       "      <th>F</th>\n",
       "      <td>161.820188</td>\n",
       "      <td>61.625692</td>\n",
       "    </tr>\n",
       "    <tr>\n",
       "      <th>M</th>\n",
       "      <td>175.326958</td>\n",
       "      <td>84.832028</td>\n",
       "    </tr>\n",
       "  </tbody>\n",
       "</table>\n",
       "</div>"
      ],
      "text/plain": [
       "          altura       peso\n",
       "sexo                       \n",
       "F     161.820188  61.625692\n",
       "M     175.326958  84.832028"
      ]
     },
     "execution_count": 4,
     "metadata": {},
     "output_type": "execute_result"
    }
   ],
   "source": [
    "df.groupby(\"sexo\")[[\"altura\",\"peso\"]].mean()"
   ]
  },
  {
   "cell_type": "markdown",
   "id": "885af866-2228-486d-b19f-1ac40633dfdb",
   "metadata": {},
   "source": [
    "# Precisamos do intervalo de confiança, não indicadores pontuais"
   ]
  },
  {
   "cell_type": "code",
   "execution_count": 5,
   "id": "3ce5e7db-a923-4790-a4a6-676a27228517",
   "metadata": {},
   "outputs": [
    {
     "data": {
      "text/plain": [
       "np.float64(0.024997895148220435)"
      ]
     },
     "execution_count": 5,
     "metadata": {},
     "output_type": "execute_result"
    }
   ],
   "source": [
    "scipy.stats.norm.cdf(-1.96)"
   ]
  },
  {
   "cell_type": "code",
   "execution_count": 6,
   "id": "68a334a4-7d09-470d-b57f-4ed27bb5f16c",
   "metadata": {},
   "outputs": [
    {
     "data": {
      "text/plain": [
       "np.float64(0.9750021048517795)"
      ]
     },
     "execution_count": 6,
     "metadata": {},
     "output_type": "execute_result"
    }
   ],
   "source": [
    "scipy.stats.norm.cdf(1.96)"
   ]
  },
  {
   "cell_type": "code",
   "execution_count": 7,
   "id": "216eb220-815c-409f-a8af-619248da553b",
   "metadata": {},
   "outputs": [
    {
     "data": {
      "text/plain": [
       "np.float64(0.950004209703559)"
      ]
     },
     "execution_count": 7,
     "metadata": {},
     "output_type": "execute_result"
    }
   ],
   "source": [
    "scipy.stats.norm.cdf(1.96)-scipy.stats.norm.cdf(-1.96)"
   ]
  },
  {
   "cell_type": "code",
   "execution_count": 15,
   "id": "9450bfc9-2396-46cd-9cc4-e1b405e62c97",
   "metadata": {},
   "outputs": [
    {
     "data": {
      "text/plain": [
       "np.float64(1.959963984540054)"
      ]
     },
     "execution_count": 15,
     "metadata": {},
     "output_type": "execute_result"
    }
   ],
   "source": [
    "conf = 0.95\n",
    "sig = 1 - conf\n",
    "scipy.stats.norm.ppf(conf + sig/2)"
   ]
  },
  {
   "cell_type": "code",
   "execution_count": 16,
   "id": "0fe43fff-eca9-4ba2-9662-4621a7302179",
   "metadata": {},
   "outputs": [
    {
     "data": {
      "text/plain": [
       "np.float64(1.959963984540054)"
      ]
     },
     "execution_count": 16,
     "metadata": {},
     "output_type": "execute_result"
    }
   ],
   "source": [
    "abs(scipy.stats.norm.ppf(sig/2))"
   ]
  },
  {
   "cell_type": "code",
   "execution_count": 2,
   "id": "a19a23ea-4617-4504-908c-7e10cb93f30a",
   "metadata": {},
   "outputs": [
    {
     "data": {
      "text/plain": [
       "0.848"
      ]
     },
     "execution_count": 2,
     "metadata": {},
     "output_type": "execute_result"
    }
   ],
   "source": [
    "n = 1000\n",
    "n_favor = 848\n",
    "p_hat = n_favor/n\n",
    "p_hat"
   ]
  },
  {
   "cell_type": "code",
   "execution_count": 4,
   "id": "7dd20027-6ca1-467f-9eb0-320a308ea51d",
   "metadata": {},
   "outputs": [
    {
     "data": {
      "text/plain": [
       "True"
      ]
     },
     "execution_count": 4,
     "metadata": {},
     "output_type": "execute_result"
    }
   ],
   "source": [
    "n*p_hat >= 10 and n*(1-p_hat) >= 10"
   ]
  },
  {
   "cell_type": "code",
   "execution_count": 5,
   "id": "d5ceda2d-2234-48ce-a4b1-b8cd1ea15308",
   "metadata": {},
   "outputs": [
    {
     "data": {
      "text/plain": [
       "(848.0, 152.00000000000003)"
      ]
     },
     "execution_count": 5,
     "metadata": {},
     "output_type": "execute_result"
    }
   ],
   "source": [
    "n*p_hat, n*(1-p_hat)"
   ]
  },
  {
   "cell_type": "markdown",
   "id": "5f4fec17-a2db-469e-833e-d23b90497e73",
   "metadata": {},
   "source": [
    "Acima, percebe-se que as condições do TCL são satisfeitas(proporções normalmente distribuidas), logo, podemos utilizar o intervalo de confiança $\\hat{p} \\pm 1.96 \\ \\ sqrt{\\frac{p(1-p)}{n}}$ "
   ]
  },
  {
   "cell_type": "code",
   "execution_count": 11,
   "id": "54060e7f-8de5-4b66-9509-e8a041637110",
   "metadata": {},
   "outputs": [
    {
     "data": {
      "text/plain": [
       "(np.float64(0.8257480635415209), np.float64(0.8702519364584791))"
      ]
     },
     "execution_count": 11,
     "metadata": {},
     "output_type": "execute_result"
    }
   ],
   "source": [
    "conf = 0.95\n",
    "sig = 1 - conf\n",
    "\n",
    "z_a2 = scipy.stats.norm.ppf(conf + sig/2)\n",
    "\n",
    "SE = np.sqrt((p_hat * (1 - p_hat))/n)\n",
    "\n",
    "ME = z_a2 * SE\n",
    "\n",
    "IC = (p_hat - ME, p_hat + ME)\n",
    "\n",
    "IC"
   ]
  },
  {
   "cell_type": "code",
   "execution_count": 12,
   "id": "1ee4638f-a773-48f0-bf2f-1611d7a954fe",
   "metadata": {},
   "outputs": [
    {
     "data": {
      "text/plain": [
       "(np.float64(0.8257480635415209), np.float64(0.8702519364584791))"
      ]
     },
     "execution_count": 12,
     "metadata": {},
     "output_type": "execute_result"
    }
   ],
   "source": [
    "IC = scipy.stats.norm.interval(conf, loc=p_hat, scale=SE)"
   ]
  },
  {
   "cell_type": "code",
   "execution_count": 15,
   "id": "5c88c0e3-ff69-4377-b9d2-bf0e0bd3df62",
   "metadata": {},
   "outputs": [
    {
     "name": "stdout",
     "output_type": "stream",
     "text": [
      "Temos 95% de confiança que a proporção populacional (real) das pessoas que são a favor da energia eólica está entre 82.57% e 87.03% \n"
     ]
    }
   ],
   "source": [
    "print(f\"Temos {conf:.0%} de confiança que a proporção populacional (real) das pessoas que são a favor da energia eólica está entre {IC[0]:.2%} e {IC[1]:.2%} \")"
   ]
  },
  {
   "cell_type": "markdown",
   "id": "f2ff1dc2-9f7f-4eb7-a6e4-290f4d9c0753",
   "metadata": {},
   "source": [
    "# Testando novo intervalo de confiança, mas agora com 99% de confiança"
   ]
  },
  {
   "cell_type": "code",
   "execution_count": 20,
   "id": "8cf830f1-1be6-4333-ad9e-bf1bc5956aeb",
   "metadata": {},
   "outputs": [],
   "source": [
    "conf = 0.999\n",
    "sig = 1 - conf\n",
    "\n",
    "z_a2 = scipy.stats.norm.ppf(conf + sig/2)\n",
    "\n",
    "SE = np.sqrt((p_hat * (1 - p_hat))/n)\n",
    "\n",
    "ME = z_a2 * SE\n",
    "\n",
    "IC = scipy.stats.norm.interval(conf, loc=p_hat, scale=SE)"
   ]
  },
  {
   "cell_type": "code",
   "execution_count": 21,
   "id": "d57f0341-3a9e-4841-a54a-fe64a9f02e98",
   "metadata": {},
   "outputs": [
    {
     "name": "stdout",
     "output_type": "stream",
     "text": [
      "Temos 99.90% de confiança que a proporção populacional (real) das pessoas que são a favor da energia eólica está entre 81.06% e 88.54% \n"
     ]
    }
   ],
   "source": [
    "print(f\"Temos {conf:.2%} de confiança que a proporção populacional (real) das pessoas que são a favor da energia eólica está entre {IC[0]:.2%} e {IC[1]:.2%} \")"
   ]
  },
  {
   "cell_type": "markdown",
   "id": "d12b5786-0c15-414a-a008-279e07e8b271",
   "metadata": {},
   "source": [
    "# Resolvendo o problema da estimativa da média de altura das mulheres"
   ]
  },
  {
   "cell_type": "code",
   "execution_count": 56,
   "id": "6cd6f34a-8723-4dee-8c8f-d59a00a5db49",
   "metadata": {},
   "outputs": [
    {
     "name": "stdout",
     "output_type": "stream",
     "text": [
      "Indicador pontual da média de altura das mulheres: 161.82cm\n"
     ]
    }
   ],
   "source": [
    "ind_pont = df.query(\"sexo == 'F'\")[\"altura\"].mean()\n",
    "print(f\"Indicador pontual da média de altura das mulheres: {ind_pont:.2f}cm\")"
   ]
  },
  {
   "cell_type": "code",
   "execution_count": 60,
   "id": "faf50a00-48d0-4012-a067-1bf254e9da55",
   "metadata": {},
   "outputs": [
    {
     "data": {
      "text/plain": [
       "5000"
      ]
     },
     "execution_count": 60,
     "metadata": {},
     "output_type": "execute_result"
    }
   ],
   "source": [
    "n = df.query(\"sexo == 'F'\").shape[0]\n",
    "n"
   ]
  },
  {
   "cell_type": "code",
   "execution_count": 58,
   "id": "33ae0b06-0350-4807-bfe0-0b91eacec8e0",
   "metadata": {},
   "outputs": [
    {
     "data": {
      "text/plain": [
       "True"
      ]
     },
     "execution_count": 58,
     "metadata": {},
     "output_type": "execute_result"
    }
   ],
   "source": [
    "# verificando se é uma distribuição normal\n",
    "# ela é aleatória e o tamanho da amostra é maior ou igual a 30\n",
    "n >= 30"
   ]
  },
  {
   "cell_type": "code",
   "execution_count": 70,
   "id": "da8f66ea-396f-46e8-ba43-fe6c44d72249",
   "metadata": {},
   "outputs": [],
   "source": [
    "x_barra = ind_pont\n",
    "sigma = df.query(\"sexo == 'F'\")[\"altura\"].std()\n",
    "SE = sigma/np.sqrt(n)"
   ]
  },
  {
   "cell_type": "code",
   "execution_count": 74,
   "id": "9841cbf5-f5c1-4983-a83e-939a2c01affb",
   "metadata": {},
   "outputs": [
    {
     "name": "stdout",
     "output_type": "stream",
     "text": [
      "Temos 90.00% de confiança que a altura da mulheres está entre 161.66cm e 161.98cm\n",
      "Temos 95.00% de confiança que a altura da mulheres está entre 161.63cm e 162.01cm\n",
      "Temos 99.90% de confiança que a altura da mulheres está entre 161.50cm e 162.14cm\n"
     ]
    }
   ],
   "source": [
    "for conf in [0.9, 0.95, 0.999]:\n",
    "    IC = scipy.stats.norm.interval(conf, loc=x_barra, scale=SE)\n",
    "    print(f\"Temos {conf:.2%} de confiança que a altura da mulheres está entre {IC[0]:.2f}cm e {IC[1]:.2f}cm\")"
   ]
  },
  {
   "cell_type": "markdown",
   "id": "7c71a41b-5483-4780-8ffa-ae91926d732c",
   "metadata": {},
   "source": [
    "### Legenda\n",
    "x_barra = média  \n",
    "sigma = desvio padrão  \n",
    "SE = Standar error = erro padrão  \n",
    "IC = Intervalo de Confiança"
   ]
  },
  {
   "cell_type": "code",
   "execution_count": null,
   "id": "aff68a8b-9bd8-4c2c-8ed0-fe56f2810b4f",
   "metadata": {},
   "outputs": [],
   "source": []
  }
 ],
 "metadata": {
  "kernelspec": {
   "display_name": "Python (CMD Version)",
   "language": "python",
   "name": "pythoncmd"
  },
  "language_info": {
   "codemirror_mode": {
    "name": "ipython",
    "version": 3
   },
   "file_extension": ".py",
   "mimetype": "text/x-python",
   "name": "python",
   "nbconvert_exporter": "python",
   "pygments_lexer": "ipython3",
   "version": "3.9.13"
  }
 },
 "nbformat": 4,
 "nbformat_minor": 5
}
